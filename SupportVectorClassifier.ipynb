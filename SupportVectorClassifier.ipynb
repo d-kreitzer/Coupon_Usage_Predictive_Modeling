{
 "cells": [
  {
   "cell_type": "code",
   "execution_count": 1,
   "id": "effa73f7-4ef8-4edb-95cf-f8bc8c995577",
   "metadata": {
    "tags": []
   },
   "outputs": [],
   "source": [
    "import pandas as pd\n",
    "from sklearn.svm import SVC\n",
    "from sklearn.metrics import fbeta_score, make_scorer\n",
    "from sklearn.model_selection import GridSearchCV\n",
    "from sklearn.pipeline import Pipeline\n",
    "from sklearn.decomposition import PCA\n",
    "from sklearn.preprocessing import StandardScaler\n",
    "from sklearn.metrics import (\n",
    "    confusion_matrix,\n",
    "    precision_score,\n",
    "    recall_score,\n",
    "    accuracy_score,\n",
    ")\n",
    "import pickle"
   ]
  },
  {
   "cell_type": "markdown",
   "id": "b4698fde-c309-467b-bcc4-f9d48cbfcbff",
   "metadata": {
    "tags": []
   },
   "source": [
    "# Support Vector Classifier (SVC)\n",
    "\n",
    "In this section, we delve into the domain of Support Vector Classifier (SVC), a versatile and powerful classification algorithm. SVC is particularly adept at separating data into distinct classes by finding an optimal hyperplane that maximizes the margin between classes while minimizing classification errors.\n",
    "\n",
    "## Key Characteristics of Support Vector Classifier (SVC):\n",
    "\n",
    "- **Margin Maximization**: SVC aims to find a decision boundary (hyperplane) that maximizes the margin between data points of different classes.\n",
    "- **Kernel Trick**: It can work efficiently in high-dimensional spaces, thanks to the kernel trick, allowing it to handle complex data transformations.\n",
    "- **Effective in Non-Linear Cases**: SVC can capture complex, non-linear relationships between features using different kernel functions.\n",
    "\n",
    "Support Vector Classifier is a valuable tool for classification tasks in various domains, including image recognition, text classification, and bioinformatics.\n",
    "\n",
    "In this section, we will explore, optimize, and evaluate an SVC model for our specific dataset, preparing it for later comparison with other classification models.\n",
    "\n",
    "For detailed implementation steps, please consult the notebook \"Final_Project_Data_Gen.\"\n",
    "\n",
    "---\n"
   ]
  },
  {
   "cell_type": "markdown",
   "metadata": {},
   "source": [
    "Let's load our dataset from CSV files, with `X_train` and `y_train` as our training features and labels, and `X_test` and `y_test` for testing, using Pandas DataFrames to facilitate data manipulation and analysis.\n"
   ]
  },
  {
   "cell_type": "code",
   "execution_count": 2,
   "id": "98951f03-efa3-4069-aaf3-94b06c04e6c4",
   "metadata": {
    "tags": []
   },
   "outputs": [],
   "source": [
    "X_train = pd.read_csv(\"train_X_In-Car-Rec.csv\")\n",
    "y_train = pd.read_csv(\"train_y_In-Car-Rec.csv\")\n",
    "X_test = pd.read_csv(\"test_X_In-Car-Rec.csv\")\n",
    "y_test = pd.read_csv(\"test_y_In-Car-Rec.csv\")"
   ]
  },
  {
   "cell_type": "markdown",
   "metadata": {},
   "source": [
    "Here is where we will establish our custom `scorer`. We have decided to use a custom F2 score to prioritize recall (minimizing the chance of not giving a coupon to someone who would use it) while considering the value of precision (minimizing the chance of giving a coupon to someone who will not use it).\n"
   ]
  },
  {
   "cell_type": "code",
   "execution_count": 3,
   "id": "514afa94-0617-4ccb-897f-5d6969f3d433",
   "metadata": {},
   "outputs": [],
   "source": [
    "# Defining a function\n",
    "scorer = make_scorer(fbeta_score, beta=2)"
   ]
  },
  {
   "cell_type": "markdown",
   "id": "a1985d66-40c0-4d5f-a122-13704f81c594",
   "metadata": {
    "tags": []
   },
   "source": [
    "### Building a Pipeline with Parameter Grid for Hyperparameter Tuning\n",
    "\n",
    "Now that we have our synthetic dataset, we can proceed to build a pipeline. A pipeline streamlines a lot of the routine processes, making it easier to manage complex workflows. In this example, our pipeline will consist of the following steps:\n",
    "**Model Training**: Using `SVC` (Support Vector Classifier) for classification.\n",
    "Let's go ahead and build this pipeline.\n"
   ]
  },
  {
   "cell_type": "markdown",
   "metadata": {},
   "source": [
    "Determining the grid-search parameters\n"
   ]
  },
  {
   "cell_type": "code",
   "execution_count": 4,
   "id": "60157224-ad30-4c31-a59e-2d85a481b667",
   "metadata": {
    "tags": []
   },
   "outputs": [],
   "source": [
    "param_grid_svc = {\n",
    "    \"svc__C\": [0.1, 1, 10],\n",
    "    \"svc__kernel\": [\"linear\", \"rbf\"],\n",
    "    \"svc__gamma\": [\"scale\", \"auto\", 0.1, 1],\n",
    "    \"svc__degree\": [2, 3, 4],\n",
    "    \"svc__coef0\": [0.0, 0.1, 1.0],\n",
    "    \"svc__shrinking\": [True, False],\n",
    "    \"svc__class_weight\": [None, \"balanced\"],\n",
    "    \"svc__max_iter\": [10000, 50000],\n",
    "}"
   ]
  },
  {
   "cell_type": "markdown",
   "metadata": {},
   "source": [
    "We're constructing a pipeline for the Support Vector Classifier (SVC), which includes three key preprocessing and modeling steps. First, we reduce the dimensionality of the data using Principal Component Analysis (PCA) to 10 components. We include Principal Component Analysis (PCA) in our pipeline to reduce the dimensionality of the data, which can enhance the efficiency and effectiveness of our Support Vector Classifier (SVC) by focusing on the most informative features while reducing computational complexity. Then, we standardize the features with the StandardScaler, followed by the SVC as our classifier in the pipeline.\n"
   ]
  },
  {
   "cell_type": "code",
   "execution_count": 5,
   "id": "76982e93-ea56-4ca1-b988-62eb5e0c80db",
   "metadata": {
    "tags": []
   },
   "outputs": [],
   "source": [
    "# Create pipelines for SVC\n",
    "pipeline = Pipeline(\n",
    "    [(\"pca\", PCA(n_components=10)), (\"scaler\", StandardScaler()), (\"svc\", SVC())]\n",
    ")"
   ]
  },
  {
   "cell_type": "markdown",
   "metadata": {},
   "source": [
    "Let's establish a `GridSearchCV` object, `grid_search`, to perform a systematic search over the hyperparameter space defined in `param_grid_svc`. This grid search will optimize our Support Vector Classifier (SVC) pipeline using 5-fold cross-validation, evaluating its performance with the custom scoring function `scorer`, and making use of all available CPU cores (`n_jobs=-1`) for parallel processing.\n"
   ]
  },
  {
   "cell_type": "code",
   "execution_count": 6,
   "id": "79cf77ff-73c7-4701-9a7c-d16cb7bb0646",
   "metadata": {},
   "outputs": [],
   "source": [
    "# Create GridSearchCV object\n",
    "grid_search = GridSearchCV(pipeline, param_grid_svc, cv=5, scoring=scorer, n_jobs=-1)"
   ]
  },
  {
   "cell_type": "markdown",
   "metadata": {},
   "source": [
    "We initiate the `GridSearchCV` process by fitting it to our training data, `X_train` and `y_train`. This step systematically explores different combinations of hyperparameters for the Support Vector Classifier (SVC) within our pipeline, aiming to identify the optimal configuration that maximizes classification performance.\n"
   ]
  },
  {
   "cell_type": "code",
   "execution_count": 7,
   "metadata": {},
   "outputs": [
    {
     "data": {
      "text/html": [
       "<style>#sk-container-id-1 {color: black;}#sk-container-id-1 pre{padding: 0;}#sk-container-id-1 div.sk-toggleable {background-color: white;}#sk-container-id-1 label.sk-toggleable__label {cursor: pointer;display: block;width: 100%;margin-bottom: 0;padding: 0.3em;box-sizing: border-box;text-align: center;}#sk-container-id-1 label.sk-toggleable__label-arrow:before {content: \"▸\";float: left;margin-right: 0.25em;color: #696969;}#sk-container-id-1 label.sk-toggleable__label-arrow:hover:before {color: black;}#sk-container-id-1 div.sk-estimator:hover label.sk-toggleable__label-arrow:before {color: black;}#sk-container-id-1 div.sk-toggleable__content {max-height: 0;max-width: 0;overflow: hidden;text-align: left;background-color: #f0f8ff;}#sk-container-id-1 div.sk-toggleable__content pre {margin: 0.2em;color: black;border-radius: 0.25em;background-color: #f0f8ff;}#sk-container-id-1 input.sk-toggleable__control:checked~div.sk-toggleable__content {max-height: 200px;max-width: 100%;overflow: auto;}#sk-container-id-1 input.sk-toggleable__control:checked~label.sk-toggleable__label-arrow:before {content: \"▾\";}#sk-container-id-1 div.sk-estimator input.sk-toggleable__control:checked~label.sk-toggleable__label {background-color: #d4ebff;}#sk-container-id-1 div.sk-label input.sk-toggleable__control:checked~label.sk-toggleable__label {background-color: #d4ebff;}#sk-container-id-1 input.sk-hidden--visually {border: 0;clip: rect(1px 1px 1px 1px);clip: rect(1px, 1px, 1px, 1px);height: 1px;margin: -1px;overflow: hidden;padding: 0;position: absolute;width: 1px;}#sk-container-id-1 div.sk-estimator {font-family: monospace;background-color: #f0f8ff;border: 1px dotted black;border-radius: 0.25em;box-sizing: border-box;margin-bottom: 0.5em;}#sk-container-id-1 div.sk-estimator:hover {background-color: #d4ebff;}#sk-container-id-1 div.sk-parallel-item::after {content: \"\";width: 100%;border-bottom: 1px solid gray;flex-grow: 1;}#sk-container-id-1 div.sk-label:hover label.sk-toggleable__label {background-color: #d4ebff;}#sk-container-id-1 div.sk-serial::before {content: \"\";position: absolute;border-left: 1px solid gray;box-sizing: border-box;top: 0;bottom: 0;left: 50%;z-index: 0;}#sk-container-id-1 div.sk-serial {display: flex;flex-direction: column;align-items: center;background-color: white;padding-right: 0.2em;padding-left: 0.2em;position: relative;}#sk-container-id-1 div.sk-item {position: relative;z-index: 1;}#sk-container-id-1 div.sk-parallel {display: flex;align-items: stretch;justify-content: center;background-color: white;position: relative;}#sk-container-id-1 div.sk-item::before, #sk-container-id-1 div.sk-parallel-item::before {content: \"\";position: absolute;border-left: 1px solid gray;box-sizing: border-box;top: 0;bottom: 0;left: 50%;z-index: -1;}#sk-container-id-1 div.sk-parallel-item {display: flex;flex-direction: column;z-index: 1;position: relative;background-color: white;}#sk-container-id-1 div.sk-parallel-item:first-child::after {align-self: flex-end;width: 50%;}#sk-container-id-1 div.sk-parallel-item:last-child::after {align-self: flex-start;width: 50%;}#sk-container-id-1 div.sk-parallel-item:only-child::after {width: 0;}#sk-container-id-1 div.sk-dashed-wrapped {border: 1px dashed gray;margin: 0 0.4em 0.5em 0.4em;box-sizing: border-box;padding-bottom: 0.4em;background-color: white;}#sk-container-id-1 div.sk-label label {font-family: monospace;font-weight: bold;display: inline-block;line-height: 1.2em;}#sk-container-id-1 div.sk-label-container {text-align: center;}#sk-container-id-1 div.sk-container {/* jupyter's `normalize.less` sets `[hidden] { display: none; }` but bootstrap.min.css set `[hidden] { display: none !important; }` so we also need the `!important` here to be able to override the default hidden behavior on the sphinx rendered scikit-learn.org. See: https://github.com/scikit-learn/scikit-learn/issues/21755 */display: inline-block !important;position: relative;}#sk-container-id-1 div.sk-text-repr-fallback {display: none;}</style><div id=\"sk-container-id-1\" class=\"sk-top-container\"><div class=\"sk-text-repr-fallback\"><pre>GridSearchCV(cv=5,\n",
       "             estimator=Pipeline(steps=[(&#x27;pca&#x27;, PCA(n_components=10)),\n",
       "                                       (&#x27;scaler&#x27;, StandardScaler()),\n",
       "                                       (&#x27;svc&#x27;, SVC())]),\n",
       "             n_jobs=-1,\n",
       "             param_grid={&#x27;svc__C&#x27;: [0.1, 1, 10],\n",
       "                         &#x27;svc__class_weight&#x27;: [None, &#x27;balanced&#x27;],\n",
       "                         &#x27;svc__coef0&#x27;: [0.0, 0.1, 1.0],\n",
       "                         &#x27;svc__degree&#x27;: [2, 3, 4],\n",
       "                         &#x27;svc__gamma&#x27;: [&#x27;scale&#x27;, &#x27;auto&#x27;, 0.1, 1],\n",
       "                         &#x27;svc__kernel&#x27;: [&#x27;linear&#x27;, &#x27;rbf&#x27;],\n",
       "                         &#x27;svc__max_iter&#x27;: [10000, 50000],\n",
       "                         &#x27;svc__shrinking&#x27;: [True, False]},\n",
       "             scoring=make_scorer(fbeta_score, beta=2))</pre><b>In a Jupyter environment, please rerun this cell to show the HTML representation or trust the notebook. <br />On GitHub, the HTML representation is unable to render, please try loading this page with nbviewer.org.</b></div><div class=\"sk-container\" hidden><div class=\"sk-item sk-dashed-wrapped\"><div class=\"sk-label-container\"><div class=\"sk-label sk-toggleable\"><input class=\"sk-toggleable__control sk-hidden--visually\" id=\"sk-estimator-id-1\" type=\"checkbox\" ><label for=\"sk-estimator-id-1\" class=\"sk-toggleable__label sk-toggleable__label-arrow\">GridSearchCV</label><div class=\"sk-toggleable__content\"><pre>GridSearchCV(cv=5,\n",
       "             estimator=Pipeline(steps=[(&#x27;pca&#x27;, PCA(n_components=10)),\n",
       "                                       (&#x27;scaler&#x27;, StandardScaler()),\n",
       "                                       (&#x27;svc&#x27;, SVC())]),\n",
       "             n_jobs=-1,\n",
       "             param_grid={&#x27;svc__C&#x27;: [0.1, 1, 10],\n",
       "                         &#x27;svc__class_weight&#x27;: [None, &#x27;balanced&#x27;],\n",
       "                         &#x27;svc__coef0&#x27;: [0.0, 0.1, 1.0],\n",
       "                         &#x27;svc__degree&#x27;: [2, 3, 4],\n",
       "                         &#x27;svc__gamma&#x27;: [&#x27;scale&#x27;, &#x27;auto&#x27;, 0.1, 1],\n",
       "                         &#x27;svc__kernel&#x27;: [&#x27;linear&#x27;, &#x27;rbf&#x27;],\n",
       "                         &#x27;svc__max_iter&#x27;: [10000, 50000],\n",
       "                         &#x27;svc__shrinking&#x27;: [True, False]},\n",
       "             scoring=make_scorer(fbeta_score, beta=2))</pre></div></div></div><div class=\"sk-parallel\"><div class=\"sk-parallel-item\"><div class=\"sk-item\"><div class=\"sk-label-container\"><div class=\"sk-label sk-toggleable\"><input class=\"sk-toggleable__control sk-hidden--visually\" id=\"sk-estimator-id-2\" type=\"checkbox\" ><label for=\"sk-estimator-id-2\" class=\"sk-toggleable__label sk-toggleable__label-arrow\">estimator: Pipeline</label><div class=\"sk-toggleable__content\"><pre>Pipeline(steps=[(&#x27;pca&#x27;, PCA(n_components=10)), (&#x27;scaler&#x27;, StandardScaler()),\n",
       "                (&#x27;svc&#x27;, SVC())])</pre></div></div></div><div class=\"sk-serial\"><div class=\"sk-item\"><div class=\"sk-serial\"><div class=\"sk-item\"><div class=\"sk-estimator sk-toggleable\"><input class=\"sk-toggleable__control sk-hidden--visually\" id=\"sk-estimator-id-3\" type=\"checkbox\" ><label for=\"sk-estimator-id-3\" class=\"sk-toggleable__label sk-toggleable__label-arrow\">PCA</label><div class=\"sk-toggleable__content\"><pre>PCA(n_components=10)</pre></div></div></div><div class=\"sk-item\"><div class=\"sk-estimator sk-toggleable\"><input class=\"sk-toggleable__control sk-hidden--visually\" id=\"sk-estimator-id-4\" type=\"checkbox\" ><label for=\"sk-estimator-id-4\" class=\"sk-toggleable__label sk-toggleable__label-arrow\">StandardScaler</label><div class=\"sk-toggleable__content\"><pre>StandardScaler()</pre></div></div></div><div class=\"sk-item\"><div class=\"sk-estimator sk-toggleable\"><input class=\"sk-toggleable__control sk-hidden--visually\" id=\"sk-estimator-id-5\" type=\"checkbox\" ><label for=\"sk-estimator-id-5\" class=\"sk-toggleable__label sk-toggleable__label-arrow\">SVC</label><div class=\"sk-toggleable__content\"><pre>SVC()</pre></div></div></div></div></div></div></div></div></div></div></div></div>"
      ],
      "text/plain": [
       "GridSearchCV(cv=5,\n",
       "             estimator=Pipeline(steps=[('pca', PCA(n_components=10)),\n",
       "                                       ('scaler', StandardScaler()),\n",
       "                                       ('svc', SVC())]),\n",
       "             n_jobs=-1,\n",
       "             param_grid={'svc__C': [0.1, 1, 10],\n",
       "                         'svc__class_weight': [None, 'balanced'],\n",
       "                         'svc__coef0': [0.0, 0.1, 1.0],\n",
       "                         'svc__degree': [2, 3, 4],\n",
       "                         'svc__gamma': ['scale', 'auto', 0.1, 1],\n",
       "                         'svc__kernel': ['linear', 'rbf'],\n",
       "                         'svc__max_iter': [10000, 50000],\n",
       "                         'svc__shrinking': [True, False]},\n",
       "             scoring=make_scorer(fbeta_score, beta=2))"
      ]
     },
     "execution_count": 7,
     "metadata": {},
     "output_type": "execute_result"
    }
   ],
   "source": [
    "# Fit GridSearchCV\n",
    "grid_search.fit(X_train, y_train.values.ravel())"
   ]
  },
  {
   "cell_type": "markdown",
   "metadata": {},
   "source": [
    "Now let's extract the best-performing estimator, `best_svc`, from our grid search results. Additionally, we retrieve the optimal hyperparameters, stored in `best_params`, and the highest cross-validation score achieved, indicated by `best_score`. These values provide valuable insights into the ideal configuration of our Support Vector Classifier (SVC) model and its performance on the dataset.\n"
   ]
  },
  {
   "cell_type": "code",
   "execution_count": 8,
   "id": "f1b070c8-60cd-4d25-8e2d-a4d72305b01f",
   "metadata": {
    "tags": []
   },
   "outputs": [
    {
     "data": {
      "text/plain": [
       "({'svc__C': 0.1,\n",
       "  'svc__class_weight': None,\n",
       "  'svc__coef0': 0.0,\n",
       "  'svc__degree': 2,\n",
       "  'svc__gamma': 1,\n",
       "  'svc__kernel': 'rbf',\n",
       "  'svc__max_iter': 10000,\n",
       "  'svc__shrinking': True},\n",
       " 0.8673946364835304)"
      ]
     },
     "execution_count": 8,
     "metadata": {},
     "output_type": "execute_result"
    }
   ],
   "source": [
    "# Get the best parameters and score\n",
    "best_svc = grid_search.best_estimator_\n",
    "best_params = grid_search.best_params_\n",
    "best_score = grid_search.best_score_\n",
    "best_params, best_score"
   ]
  },
  {
   "cell_type": "markdown",
   "id": "b2bbc1cf-df81-46d6-98e9-3f8e9661c53a",
   "metadata": {
    "tags": []
   },
   "source": [
    "### Final pipeline\n"
   ]
  },
  {
   "cell_type": "markdown",
   "metadata": {},
   "source": [
    "We establish our final pipeline, `svc_pipeline`, which encompasses three essential components: Principal Component Analysis (PCA) with 10 components for dimensionality reduction, feature scaling using StandardScaler, and a Support Vector Classifier (SVC) with predefined hyperparameters. This configuration is prepared for the training and evaluation of our SVC model.\n"
   ]
  },
  {
   "cell_type": "code",
   "execution_count": 6,
   "id": "07b29061-fb79-48de-8234-662e7a613808",
   "metadata": {
    "tags": []
   },
   "outputs": [],
   "source": [
    "# final pipeline\n",
    "svc_pipeline = Pipeline(\n",
    "    [\n",
    "        (\"pca\", PCA(n_components=10)),\n",
    "        (\"scaler\", StandardScaler()),\n",
    "        (\n",
    "            \"svc\",\n",
    "            SVC(\n",
    "                C=0.1,\n",
    "                class_weight=None,\n",
    "                coef0=0.0,\n",
    "                degree=2,\n",
    "                gamma=1,\n",
    "                kernel=\"rbf\",\n",
    "                max_iter=10000,\n",
    "                shrinking=True,\n",
    "            ),\n",
    "        ),\n",
    "    ]\n",
    ")"
   ]
  },
  {
   "cell_type": "markdown",
   "metadata": {},
   "source": [
    "Let's proceed to train our final Support Vector Classifier (SVC) pipeline, `svc_pipeline`, using the training dataset, `X_train`, and the corresponding target values, `y_train`, with the labels reshaped into a one-dimensional array using `ravel()` for compatibility.\n"
   ]
  },
  {
   "cell_type": "code",
   "execution_count": 7,
   "id": "8614d158-d82e-42cb-87b4-7dc574293cec",
   "metadata": {
    "tags": []
   },
   "outputs": [
    {
     "data": {
      "text/html": [
       "<style>#sk-container-id-1 {color: black;background-color: white;}#sk-container-id-1 pre{padding: 0;}#sk-container-id-1 div.sk-toggleable {background-color: white;}#sk-container-id-1 label.sk-toggleable__label {cursor: pointer;display: block;width: 100%;margin-bottom: 0;padding: 0.3em;box-sizing: border-box;text-align: center;}#sk-container-id-1 label.sk-toggleable__label-arrow:before {content: \"▸\";float: left;margin-right: 0.25em;color: #696969;}#sk-container-id-1 label.sk-toggleable__label-arrow:hover:before {color: black;}#sk-container-id-1 div.sk-estimator:hover label.sk-toggleable__label-arrow:before {color: black;}#sk-container-id-1 div.sk-toggleable__content {max-height: 0;max-width: 0;overflow: hidden;text-align: left;background-color: #f0f8ff;}#sk-container-id-1 div.sk-toggleable__content pre {margin: 0.2em;color: black;border-radius: 0.25em;background-color: #f0f8ff;}#sk-container-id-1 input.sk-toggleable__control:checked~div.sk-toggleable__content {max-height: 200px;max-width: 100%;overflow: auto;}#sk-container-id-1 input.sk-toggleable__control:checked~label.sk-toggleable__label-arrow:before {content: \"▾\";}#sk-container-id-1 div.sk-estimator input.sk-toggleable__control:checked~label.sk-toggleable__label {background-color: #d4ebff;}#sk-container-id-1 div.sk-label input.sk-toggleable__control:checked~label.sk-toggleable__label {background-color: #d4ebff;}#sk-container-id-1 input.sk-hidden--visually {border: 0;clip: rect(1px 1px 1px 1px);clip: rect(1px, 1px, 1px, 1px);height: 1px;margin: -1px;overflow: hidden;padding: 0;position: absolute;width: 1px;}#sk-container-id-1 div.sk-estimator {font-family: monospace;background-color: #f0f8ff;border: 1px dotted black;border-radius: 0.25em;box-sizing: border-box;margin-bottom: 0.5em;}#sk-container-id-1 div.sk-estimator:hover {background-color: #d4ebff;}#sk-container-id-1 div.sk-parallel-item::after {content: \"\";width: 100%;border-bottom: 1px solid gray;flex-grow: 1;}#sk-container-id-1 div.sk-label:hover label.sk-toggleable__label {background-color: #d4ebff;}#sk-container-id-1 div.sk-serial::before {content: \"\";position: absolute;border-left: 1px solid gray;box-sizing: border-box;top: 0;bottom: 0;left: 50%;z-index: 0;}#sk-container-id-1 div.sk-serial {display: flex;flex-direction: column;align-items: center;background-color: white;padding-right: 0.2em;padding-left: 0.2em;position: relative;}#sk-container-id-1 div.sk-item {position: relative;z-index: 1;}#sk-container-id-1 div.sk-parallel {display: flex;align-items: stretch;justify-content: center;background-color: white;position: relative;}#sk-container-id-1 div.sk-item::before, #sk-container-id-1 div.sk-parallel-item::before {content: \"\";position: absolute;border-left: 1px solid gray;box-sizing: border-box;top: 0;bottom: 0;left: 50%;z-index: -1;}#sk-container-id-1 div.sk-parallel-item {display: flex;flex-direction: column;z-index: 1;position: relative;background-color: white;}#sk-container-id-1 div.sk-parallel-item:first-child::after {align-self: flex-end;width: 50%;}#sk-container-id-1 div.sk-parallel-item:last-child::after {align-self: flex-start;width: 50%;}#sk-container-id-1 div.sk-parallel-item:only-child::after {width: 0;}#sk-container-id-1 div.sk-dashed-wrapped {border: 1px dashed gray;margin: 0 0.4em 0.5em 0.4em;box-sizing: border-box;padding-bottom: 0.4em;background-color: white;}#sk-container-id-1 div.sk-label label {font-family: monospace;font-weight: bold;display: inline-block;line-height: 1.2em;}#sk-container-id-1 div.sk-label-container {text-align: center;}#sk-container-id-1 div.sk-container {/* jupyter's `normalize.less` sets `[hidden] { display: none; }` but bootstrap.min.css set `[hidden] { display: none !important; }` so we also need the `!important` here to be able to override the default hidden behavior on the sphinx rendered scikit-learn.org. See: https://github.com/scikit-learn/scikit-learn/issues/21755 */display: inline-block !important;position: relative;}#sk-container-id-1 div.sk-text-repr-fallback {display: none;}</style><div id=\"sk-container-id-1\" class=\"sk-top-container\"><div class=\"sk-text-repr-fallback\"><pre>Pipeline(steps=[(&#x27;pca&#x27;, PCA(n_components=10)), (&#x27;scaler&#x27;, StandardScaler()),\n",
       "                (&#x27;svc&#x27;, SVC(C=0.1, degree=2, gamma=1, max_iter=10000))])</pre><b>In a Jupyter environment, please rerun this cell to show the HTML representation or trust the notebook. <br />On GitHub, the HTML representation is unable to render, please try loading this page with nbviewer.org.</b></div><div class=\"sk-container\" hidden><div class=\"sk-item sk-dashed-wrapped\"><div class=\"sk-label-container\"><div class=\"sk-label sk-toggleable\"><input class=\"sk-toggleable__control sk-hidden--visually\" id=\"sk-estimator-id-1\" type=\"checkbox\" ><label for=\"sk-estimator-id-1\" class=\"sk-toggleable__label sk-toggleable__label-arrow\">Pipeline</label><div class=\"sk-toggleable__content\"><pre>Pipeline(steps=[(&#x27;pca&#x27;, PCA(n_components=10)), (&#x27;scaler&#x27;, StandardScaler()),\n",
       "                (&#x27;svc&#x27;, SVC(C=0.1, degree=2, gamma=1, max_iter=10000))])</pre></div></div></div><div class=\"sk-serial\"><div class=\"sk-item\"><div class=\"sk-estimator sk-toggleable\"><input class=\"sk-toggleable__control sk-hidden--visually\" id=\"sk-estimator-id-2\" type=\"checkbox\" ><label for=\"sk-estimator-id-2\" class=\"sk-toggleable__label sk-toggleable__label-arrow\">PCA</label><div class=\"sk-toggleable__content\"><pre>PCA(n_components=10)</pre></div></div></div><div class=\"sk-item\"><div class=\"sk-estimator sk-toggleable\"><input class=\"sk-toggleable__control sk-hidden--visually\" id=\"sk-estimator-id-3\" type=\"checkbox\" ><label for=\"sk-estimator-id-3\" class=\"sk-toggleable__label sk-toggleable__label-arrow\">StandardScaler</label><div class=\"sk-toggleable__content\"><pre>StandardScaler()</pre></div></div></div><div class=\"sk-item\"><div class=\"sk-estimator sk-toggleable\"><input class=\"sk-toggleable__control sk-hidden--visually\" id=\"sk-estimator-id-4\" type=\"checkbox\" ><label for=\"sk-estimator-id-4\" class=\"sk-toggleable__label sk-toggleable__label-arrow\">SVC</label><div class=\"sk-toggleable__content\"><pre>SVC(C=0.1, degree=2, gamma=1, max_iter=10000)</pre></div></div></div></div></div></div></div>"
      ],
      "text/plain": [
       "Pipeline(steps=[('pca', PCA(n_components=10)), ('scaler', StandardScaler()),\n",
       "                ('svc', SVC(C=0.1, degree=2, gamma=1, max_iter=10000))])"
      ]
     },
     "execution_count": 7,
     "metadata": {},
     "output_type": "execute_result"
    }
   ],
   "source": [
    "# Train the final pipeline\n",
    "svc_pipeline.fit(X_train, y_train.values.ravel())"
   ]
  },
  {
   "cell_type": "markdown",
   "metadata": {},
   "source": [
    "We employ our trained Support Vector Classifier (SVC) pipeline, `svc_pipeline`, to generate predictions on the test dataset, `X_test`. The predicted labels are stored in `y_pred`, which we will use for evaluating the model's performance on unseen data.\n"
   ]
  },
  {
   "cell_type": "code",
   "execution_count": 8,
   "id": "ada49739-0978-46ac-b755-a7cff41e92ad",
   "metadata": {
    "tags": []
   },
   "outputs": [],
   "source": [
    "# Predict on the test set\n",
    "y_pred = svc_pipeline.predict(X_test)"
   ]
  },
  {
   "cell_type": "markdown",
   "metadata": {},
   "source": [
    "We conduct a comprehensive evaluation of our Support Vector Classifier (SVC) pipeline on the test data:\n",
    "\n",
    "- **F2 Score**: We calculate the weighted F2 score, emphasizing recall, using the `fbeta_score` function with `beta=2`. This score provides a balanced assessment of the model's performance, particularly relevant when dealing with imbalanced classes.\n",
    "\n",
    "The F2 score for our SVC Model is then printed to provide a holistic view of its predictive capability.\n"
   ]
  },
  {
   "cell_type": "code",
   "execution_count": 9,
   "id": "5c01e013-5367-431e-9272-964b0e92b7d5",
   "metadata": {
    "tags": []
   },
   "outputs": [
    {
     "name": "stdout",
     "output_type": "stream",
     "text": [
      "F2Score for the SVC Model is: 0.5010476501580502\n"
     ]
    }
   ],
   "source": [
    "# Evaluate the pipeline on the test data\n",
    "score = svc_pipeline.score(X_test, y_test)\n",
    "\n",
    "# Calculate fbeta_score where beta = 2 on the test data\n",
    "f2_score = fbeta_score(y_test, y_pred, average=\"weighted\", beta=2)\n",
    "print(f\"F2Score for the SVC Model is: \" + str(f2_score))"
   ]
  },
  {
   "cell_type": "markdown",
   "metadata": {},
   "source": [
    "With an F2 score of approximately 0.5010, we observe that our Support Vector Classifier (SVC) Model exhibits suboptimal performance, particularly in terms of recall, which indicates its difficulty in correctly identifying positive instances. This lower score prompts us to investigate potential areas for improvement. Firstly, we need to consider whether the dataset is imbalanced, as this can heavily influence the model's behavior. Secondly, hyperparameter tuning is essential, and we should explore different kernel functions, regularization parameters, and model complexities. Additionally, feature engineering and threshold adjustment should be considered to enhance the model's ability to correctly classify positive cases.\n"
   ]
  },
  {
   "cell_type": "markdown",
   "metadata": {},
   "source": [
    "## Pickling Our Model\n"
   ]
  },
  {
   "cell_type": "code",
   "execution_count": 10,
   "metadata": {},
   "outputs": [],
   "source": [
    "# Specify the filename where you want to save the model\n",
    "filename = \"SVC_Model.pkl\"\n",
    "\n",
    "# Export the model to the file using pickle.dump\n",
    "with open(filename, \"wb\") as file:\n",
    "    pickle.dump(svc_pipeline, file)"
   ]
  }
 ],
 "metadata": {
  "kernelspec": {
   "display_name": "Python 3 (ipykernel)",
   "language": "python",
   "name": "python3"
  },
  "language_info": {
   "codemirror_mode": {
    "name": "ipython",
    "version": 3
   },
   "file_extension": ".py",
   "mimetype": "text/x-python",
   "name": "python",
   "nbconvert_exporter": "python",
   "pygments_lexer": "ipython3",
   "version": "3.11.4"
  }
 },
 "nbformat": 4,
 "nbformat_minor": 5
}
